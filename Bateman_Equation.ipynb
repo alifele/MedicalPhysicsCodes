{
  "nbformat": 4,
  "nbformat_minor": 0,
  "metadata": {
    "colab": {
      "name": "Bateman Equation.ipynb",
      "provenance": [],
      "authorship_tag": "ABX9TyMVjJ7c8vNIz/pTxd50sDbc",
      "include_colab_link": true
    },
    "kernelspec": {
      "name": "python3",
      "display_name": "Python 3"
    }
  },
  "cells": [
    {
      "cell_type": "markdown",
      "metadata": {
        "id": "view-in-github",
        "colab_type": "text"
      },
      "source": [
        "<a href=\"https://colab.research.google.com/github/alifele/MedicalPhysicsCodes/blob/main/Bateman_Equation.ipynb\" target=\"_parent\"><img src=\"https://colab.research.google.com/assets/colab-badge.svg\" alt=\"Open In Colab\"/></a>"
      ]
    },
    {
      "cell_type": "code",
      "metadata": {
        "id": "PJdDmuMColI5"
      },
      "source": [
        "import numpy as np\r\n",
        "import matplotlib.pyplot as plt"
      ],
      "execution_count": 1,
      "outputs": []
    },
    {
      "cell_type": "markdown",
      "metadata": {
        "id": "GKqCF6WFo7VC"
      },
      "source": [
        "## Core and interface classes"
      ]
    },
    {
      "cell_type": "code",
      "metadata": {
        "id": "FX6n9NYQon60"
      },
      "source": [
        "class Radio_Ensemble:\r\n",
        "  def __init__(self):\r\n",
        "    self.parents = dict()\r\n",
        "    self.all_elements = set()\r\n",
        "    self.lifeTime_unit = \"day\"\r\n",
        "    self.t_List = []\r\n",
        "    self.N_List = []\r\n",
        "\r\n",
        "\r\n",
        "  def set_lifeTime_unit(self, unit): #unit: second, minute, hour, day, week, year\r\n",
        "    self.lifeTime_unit = unit\r\n",
        "\r\n",
        "  def add_parent(self, parent_daughter): # parent_daughter = [[\"parent_name\", initial_activity], [\"daughter_name\", branching_ratio, life_time, initial_activity]]  --> daughter_activity will be assumed zero if noting entered\r\n",
        "    self.extract_allElements(parent_daughter)\r\n",
        "    self.parents[parent_daughter[0][0]] = Parent(parent_daughter)\r\n",
        "\r\n",
        "  def Run(self, simulation_time, unit):\r\n",
        "    self.simulation = Simulate(simulation_time, unit, self.lifeTime_unit, self.all_elements, self.parents)\r\n",
        "    self.t_List, self.N_List, self.eff_Decay = self.simulation.run()\r\n",
        "\r\n",
        "  def extract_allElements(self, parent_daughter):\r\n",
        "    for elem in parent_daughter:\r\n",
        "      self.all_elements.add(elem[0])\r\n",
        "\r\n",
        "  def plot_N(self):\r\n",
        "    plt.figure(figsize=(8,4))\r\n",
        "    for index, elem in enumerate(list(self.all_elements)):\r\n",
        "      plt.plot(self.t_List, self.N_List[:,index], label=elem,lw=3)\r\n",
        "\r\n",
        "    plt.grid('on')\r\n",
        "    plt.legend()\r\n",
        "\r\n",
        "  def plot_A(self):\r\n",
        "    plt.figure(figsize=(8,4))\r\n",
        "    for index, elem in enumerate(list(self.all_elements)):\r\n",
        "      plt.plot(self.t_List, self.N_List[:,index]*self.eff_Decay[index], label=elem,lw=3)\r\n",
        "\r\n",
        "    plt.grid('on')\r\n",
        "    plt.legend()\r\n",
        "\r\n",
        "class Parent:\r\n",
        "  def __init__(self, parent_daughter):\r\n",
        "    self.name = parent_daughter[0][0]\r\n",
        "    self.amount = parent_daughter[0][1]\r\n",
        "    self.daughters = dict()\r\n",
        "    for elem in parent_daughter[1:]:\r\n",
        "      self.add_daughter(elem)\r\n",
        "  def add_daughter(self, daughter_info): # daughter_info = [\"daughter_name\", branching_ratio, life_time, <amount>]\r\n",
        "    self.daughters[daughter_info[0]] = Daughter(self.name, daughter_info)\r\n",
        "\r\n",
        "class Daughter:\r\n",
        "  def __init__(self, parent_name, daughter_info):\r\n",
        "    self.parent_name = parent_name\r\n",
        "    self.daughter_name = daughter_info[0]\r\n",
        "    self.branching_ratio = daughter_info[1]\r\n",
        "    self.life_time = daughter_info[2]\r\n",
        "    self.decay_const = np.log(2)/self.life_time\r\n",
        "    if len(daughter_info) > 3:\r\n",
        "      self.amount = daughter_info[3]\r\n",
        "    else:\r\n",
        "      self.amount = 0.0\r\n",
        "\r\n",
        "class Simulate:\r\n",
        "  def __init__(self,simulation_time,unit,lifeTime_unit,all_elements,parents):\r\n",
        "    self.unitOfTime = unit\r\n",
        "    self.lifeTime_unit = lifeTime_unit\r\n",
        "    self.simulation_time = self.simulationTimeOVERunitOfLifeTime(simulation_time)  # Normalized simulation time ( #unit of lifetime)\r\n",
        "    self.all_elements = all_elements\r\n",
        "    self.parents = parents\r\n",
        "    self.Decay_Matrix = np.eye(len(self.all_elements))*0.0\r\n",
        "    self.Branching_Matrix = np.eye(len(self.all_elements))*0.0\r\n",
        "    self.N_Matrix = 0\r\n",
        "    self.eff_Decay = 0\r\n",
        "\r\n",
        "    self.numberOfSteps = 5000\r\n",
        "    self.dt = self.simulation_time/self.numberOfSteps\r\n",
        "\r\n",
        "  def simulationTimeOVERunitOfLifeTime(self, simulation_time): #unit: second, minute, hour, day, week, year  |||| simulationTime/unitOfLifeTime\r\n",
        "    return self.X2second_converter(simulation_time,self.unitOfTime)/self.X2second_converter(1,self.lifeTime_unit)\r\n",
        "    \r\n",
        "  def X2second_converter(self, val, X):\r\n",
        "    if X == \"second\":\r\n",
        "      return  val\r\n",
        "    if X == \"minute\":\r\n",
        "      return val*60\r\n",
        "    if X == \"hour\":\r\n",
        "      return val*60*60\r\n",
        "    if X == \"day\":\r\n",
        "      return val*60*60*24 \r\n",
        "    if X == \"week\":\r\n",
        "      return val*60*60*24*7\r\n",
        "    if X == \"year\":\r\n",
        "      return val*60*60*24*365\r\n",
        "\r\n",
        "  def second2X_converter(self, val, X):\r\n",
        "    return val*val/self.X2second_converter(val,X)\r\n",
        "\r\n",
        "  def calculate_N_Matrix(self):\r\n",
        "    N_amount = np.zeros(len(self.all_elements))\r\n",
        "    for Index, elemName in enumerate(list(self.all_elements)):\r\n",
        "      if elemName in self.parents.keys():\r\n",
        "        N_amount[Index] += self.parents[elemName].amount\r\n",
        "        for daughterIndex, daughterName in enumerate(list(self.all_elements)):\r\n",
        "          if daughterName in self.parents[elemName].daughters.keys():\r\n",
        "            N_amount[daughterIndex] += self.parents[elemName].daughters[daughterName].amount\r\n",
        "    \r\n",
        "    self.N_Matrix = np.diag(N_amount)\r\n",
        "\r\n",
        "  def calculate_DecayAndBranching_Matrix(self):\r\n",
        "    for Index, elemName in enumerate(list(self.all_elements)):\r\n",
        "      if elemName in self.parents.keys():\r\n",
        "        for daughterIndex, daughterName in enumerate(list(self.all_elements)):\r\n",
        "          if daughterName in self.parents[elemName].daughters.keys():\r\n",
        "            #print(elemName, Index, daughterName, daughterIndex)\r\n",
        "            self.Decay_Matrix[Index,daughterIndex] = self.parents[elemName].daughters[daughterName].decay_const\r\n",
        "            self.Branching_Matrix[Index,daughterIndex] = self.parents[elemName].daughters[daughterName].branching_ratio\r\n",
        "\r\n",
        "  def run(self):\r\n",
        "    self.calculate_N_Matrix()\r\n",
        "    self.calculate_DecayAndBranching_Matrix()\r\n",
        "    self.eff_Decay = (self.Branching_Matrix @ self.Decay_Matrix.T).diagonal()\r\n",
        "    self.N_List = [self.N_Matrix.sum(axis=1)/(self.eff_Decay+0.00001)] #input of the amount is radioactivity. So the very first element should be \r\n",
        "    self.N_Matrix = np.diag(self.N_List[0])\r\n",
        "    self.t = 0\r\n",
        "    self.t_List = [self.t]\r\n",
        "    for i in range(self.numberOfSteps):\r\n",
        "      X = self.Decay_Matrix.T @ self.N_Matrix\r\n",
        "      dN = (-self.Branching_Matrix@X + self.Branching_Matrix.T@X.T)*self.dt\r\n",
        "      self.N_Matrix = self.N_Matrix + dN\r\n",
        "      self.N_List.append(self.N_List[i] + dN.sum(axis=1))\r\n",
        "      self.t_List.append(self.t_List[i] + self.dt)\r\n",
        "\r\n",
        "    self.t_List = np.array(self.t_List)\r\n",
        "    self.a = (self.X2second_converter(self.simulation_time, self.lifeTime_unit)/self.X2second_converter(1, self.unitOfTime))\r\n",
        "    #self.t_List = self.t_List *(self.X2second_converter(self.simulation_time, self.lifeTime_unit)/self.X2second_converter(1, self.unitOfTime))\r\n",
        "    self.N_List = np.array(self.N_List)\r\n",
        "\r\n",
        "    return self.t_List, self.N_List, self.eff_Decay\r\n"
      ],
      "execution_count": 3,
      "outputs": []
    },
    {
      "cell_type": "markdown",
      "metadata": {
        "id": "nV0PdZ7ppA9S"
      },
      "source": [
        "## Example"
      ]
    },
    {
      "cell_type": "code",
      "metadata": {
        "id": "dW-zaS1JoxRW"
      },
      "source": [
        "Mybox = Radio_Ensemble()\r\n",
        "Mybox.set_lifeTime_unit('day')"
      ],
      "execution_count": 13,
      "outputs": []
    },
    {
      "cell_type": "code",
      "metadata": {
        "id": "TuGdHCdHpFea"
      },
      "source": [
        "Mybox.add_parent([[\"A\",50],[\"B\",1,5]])\r\n",
        "Mybox.add_parent([[\"B\",0],[\"C\",1,2]])"
      ],
      "execution_count": 14,
      "outputs": []
    },
    {
      "cell_type": "code",
      "metadata": {
        "colab": {
          "base_uri": "https://localhost:8080/",
          "height": 265
        },
        "id": "7YP2_3QcpGvu",
        "outputId": "1caf85dc-8874-4daa-c5c6-a9e593eb0dbe"
      },
      "source": [
        "Mybox.Run(5,'week')\r\n",
        "Mybox.plot_A()"
      ],
      "execution_count": 15,
      "outputs": [
        {
          "output_type": "display_data",
          "data": {
            "image/png": "[encoded data removed]",
            "text/plain": [
              "<Figure size 576x288 with 1 Axes>"
            ]
          },
          "metadata": {
            "tags": [],
            "needs_background": "light"
          }
        }
      ]
    },
    {
      "cell_type": "code",
      "metadata": {
        "id": "_JtZTAoqpIRa"
      },
      "source": [
        ""
      ],
      "execution_count": null,
      "outputs": []
    }
  ]
}