{
  "nbformat": 4,
  "nbformat_minor": 0,
  "metadata": {
    "colab": {
      "name": "radio.ipynb",
      "provenance": [],
      "collapsed_sections": [],
      "authorship_tag": "ABX9TyOecXQA3g3dlX7+s8l5nc3u",
      "include_colab_link": true
    },
    "kernelspec": {
      "name": "python3",
      "display_name": "Python 3"
    }
  },
  "cells": [
    {
      "cell_type": "markdown",
      "metadata": {
        "id": "view-in-github",
        "colab_type": "text"
      },
      "source": [
        "<a href=\"https://colab.research.google.com/github/alifele/MedicalPhysicsCodes/blob/main/radio.ipynb\" target=\"_parent\"><img src=\"https://colab.research.google.com/assets/colab-badge.svg\" alt=\"Open In Colab\"/></a>"
      ]
    },
    {
      "cell_type": "code",
      "metadata": {
        "id": "wjav2uf5jRCC"
      },
      "source": [
        "import numpy as np\r\n",
        "import matplotlib.pyplot as plt"
      ],
      "execution_count": null,
      "outputs": []
    },
    {
      "cell_type": "code",
      "metadata": {
        "id": "P57AmqMHjUdm"
      },
      "source": [
        "N1_0 = 100.0\r\n",
        "N2_0 = 0.0\r\n",
        "lambda1 = 40\r\n",
        "lambda2 = 30\r\n",
        "dt = 0.0001\r\n",
        "N1 = [N1_0]\r\n",
        "N2 = [N2_0]"
      ],
      "execution_count": null,
      "outputs": []
    },
    {
      "cell_type": "code",
      "metadata": {
        "id": "lwi4rNH9jjem"
      },
      "source": [
        "for i in range(1000):\r\n",
        "  dN1 = -lambda1 * N1[i] * dt\r\n",
        "  N1.append(dN1 + N1[i])\r\n",
        "  dN2 = -lambda2 * N2[i] * dt - dN1\r\n",
        "  N2.append(dN2 + N2[i])\r\n",
        "\r\n",
        "  "
      ],
      "execution_count": null,
      "outputs": []
    },
    {
      "cell_type": "code",
      "metadata": {
        "colab": {
          "base_uri": "https://localhost:8080/",
          "height": 391
        },
        "id": "R0dSZIx7kEYu",
        "outputId": "2aace5dd-e1b3-4f6c-a12d-312a5d507e97"
      },
      "source": [
        "plt.figure(figsize=(8,6))\r\n",
        "plt.plot(lambda1 * np.array(N1))\r\n",
        "plt.plot(lambda2 * np.array(N2))"
      ],
      "execution_count": null,
      "outputs": [
        {
          "output_type": "execute_result",
          "data": {
            "text/plain": [
              "[<matplotlib.lines.Line2D at 0x7fac621d9550>]"
            ]
          },
          "metadata": {
            "tags": []
          },
          "execution_count": 412
        },
        {
          "output_type": "display_data",
          "data": {
            "image/png": "[encoded data removed]",
            "text/plain": [
              "<Figure size 576x432 with 1 Axes>"
            ]
          },
          "metadata": {
            "tags": [],
            "needs_background": "light"
          }
        }
      ]
    },
    {
      "cell_type": "code",
      "metadata": {
        "id": "ZEDcxVUWkgho"
      },
      "source": [
        ""
      ],
      "execution_count": null,
      "outputs": []
    },
    {
      "cell_type": "code",
      "metadata": {
        "id": "1Zm_vp3rjJBp"
      },
      "source": [
        "Names = [\"A\",\"B\",\"C\"]\r\n",
        "Branch = np.array([[0,1,0],[0,0,1],[0,0,0]])\r\n",
        "Decay = np.array([[0,30,0],[0,0,20],[0,0,0]])\r\n",
        "eff_Decay = (Branch @ Decay.T).diagonal()"
      ],
      "execution_count": null,
      "outputs": []
    },
    {
      "cell_type": "code",
      "metadata": {
        "colab": {
          "base_uri": "https://localhost:8080/"
        },
        "id": "c-ohDQJ7EMPU",
        "outputId": "7eb1c799-e709-4755-c953-523b142d7b5a"
      },
      "source": [
        "eff_Decay"
      ],
      "execution_count": null,
      "outputs": [
        {
          "output_type": "execute_result",
          "data": {
            "text/plain": [
              "array([30, 20,  0])"
            ]
          },
          "metadata": {
            "tags": []
          },
          "execution_count": 414
        }
      ]
    },
    {
      "cell_type": "code",
      "metadata": {
        "id": "KXUFLvlijeBb"
      },
      "source": [
        "N = np.array([[100,0,0],[0,0,0],[0,0,0]])\r\n",
        "t_simulation = 0.5"
      ],
      "execution_count": null,
      "outputs": []
    },
    {
      "cell_type": "code",
      "metadata": {
        "id": "mz6cVPdPlRo9"
      },
      "source": [
        "N_List = [N.sum(axis=1)]\r\n",
        "t = 0\r\n",
        "t_List = [t]\r\n",
        "dt = 0.001"
      ],
      "execution_count": null,
      "outputs": []
    },
    {
      "cell_type": "code",
      "metadata": {
        "id": "2mLQ0tFqjv-r"
      },
      "source": [
        "for i in range(int(t_simulation/dt)):\r\n",
        "  X = Decay.T @ N\r\n",
        "  dN = (-Branch@X + Branch.T@X.T)*dt\r\n",
        "  N = N + dN\r\n",
        "  N_List.append(N_List[i] + dN.sum(axis=1))\r\n",
        "  t_List.append(t_List[i] + dt)"
      ],
      "execution_count": null,
      "outputs": []
    },
    {
      "cell_type": "code",
      "metadata": {
        "id": "s0dbqX5Fj3yp"
      },
      "source": [
        "N_List = np.array(N_List)"
      ],
      "execution_count": null,
      "outputs": []
    },
    {
      "cell_type": "code",
      "metadata": {
        "colab": {
          "base_uri": "https://localhost:8080/",
          "height": 296
        },
        "id": "jU1DRKZ_j45b",
        "outputId": "dec7067d-1c7c-41f3-e034-1e77b7ff0579"
      },
      "source": [
        "plt.figure(figsize=(8,4))\r\n",
        "for i in range(3):\r\n",
        "  plt.plot(t_List, N_List[:,i] * eff_Decay[i], label=Names[i],lw=3)\r\n",
        "\r\n",
        "plt.grid('on')\r\n",
        "plt.xlabel(\"t\")\r\n",
        "plt.ylabel(\"activity\")\r\n",
        "plt.legend()"
      ],
      "execution_count": null,
      "outputs": [
        {
          "output_type": "execute_result",
          "data": {
            "text/plain": [
              "<matplotlib.legend.Legend at 0x7fac62d05198>"
            ]
          },
          "metadata": {
            "tags": []
          },
          "execution_count": 419
        },
        {
          "output_type": "display_data",
          "data": {
            "image/png": "[encoded data removed]",
            "text/plain": [
              "<Figure size 576x288 with 1 Axes>"
            ]
          },
          "metadata": {
            "tags": [],
            "needs_background": "light"
          }
        }
      ]
    },
    {
      "cell_type": "code",
      "metadata": {
        "colab": {
          "base_uri": "https://localhost:8080/",
          "height": 282
        },
        "id": "cuidYREtkAac",
        "outputId": "493f74ac-b980-4671-b198-9257ef210b6b"
      },
      "source": [
        "plt.figure(figsize=(8,4))\r\n",
        "for i in range(3):\r\n",
        "  plt.plot(N_List[:,i], label=Names[i],lw=3)\r\n",
        "\r\n",
        "plt.grid('on')\r\n",
        "plt.legend()"
      ],
      "execution_count": null,
      "outputs": [
        {
          "output_type": "execute_result",
          "data": {
            "text/plain": [
              "<matplotlib.legend.Legend at 0x7fac623164a8>"
            ]
          },
          "metadata": {
            "tags": []
          },
          "execution_count": 420
        },
        {
          "output_type": "display_data",
          "data": {
            "image/png": "[encoded data removed]",
            "text/plain": [
              "<Figure size 576x288 with 1 Axes>"
            ]
          },
          "metadata": {
            "tags": [],
            "needs_background": "light"
          }
        }
      ]
    },
    {
      "cell_type": "code",
      "metadata": {
        "id": "_wfcPA6jkBu-"
      },
      "source": [
        ""
      ],
      "execution_count": null,
      "outputs": []
    },
    {
      "cell_type": "code",
      "metadata": {
        "id": "QKsdOf606bYa"
      },
      "source": [
        ""
      ],
      "execution_count": null,
      "outputs": []
    },
    {
      "cell_type": "code",
      "metadata": {
        "id": "nzIFBSZvkfmr"
      },
      "source": [
        "class Radio_Ensemble:\r\n",
        "  def __init__(self):\r\n",
        "    self.parents = dict()\r\n",
        "    self.all_elements = set()\r\n",
        "    self.lifeTime_unit = \"day\"\r\n",
        "    self.t_List = []\r\n",
        "    self.N_List = []\r\n",
        "\r\n",
        "\r\n",
        "  def set_lifeTime_unit(self, unit): #unit: second, minute, hour, day, week, year\r\n",
        "    self.lifeTime_unit = unit\r\n",
        "\r\n",
        "  def add_parent(self, parent_daughter): # parent_daughter = [[\"parent_name\", initial_activity], [\"daughter_name\", branching_ratio, life_time, initial_activity]]  --> daughter_activity will be assumed zero if noting entered\r\n",
        "    self.extract_allElements(parent_daughter)\r\n",
        "    self.parents[parent_daughter[0][0]] = Parent(parent_daughter)\r\n",
        "\r\n",
        "  def Run(self, simulation_time, unit):\r\n",
        "    self.simulation = Simulate(simulation_time, unit, self.lifeTime_unit, self.all_elements, self.parents)\r\n",
        "    self.t_List, self.N_List, self.eff_Decay = self.simulation.run()\r\n",
        "\r\n",
        "  def extract_allElements(self, parent_daughter):\r\n",
        "    for elem in parent_daughter:\r\n",
        "      self.all_elements.add(elem[0])\r\n"
      ],
      "execution_count": null,
      "outputs": []
    },
    {
      "cell_type": "code",
      "metadata": {
        "id": "RLE8aw5wki8q"
      },
      "source": [
        "class Parent:\r\n",
        "  def __init__(self, parent_daughter):\r\n",
        "    self.name = parent_daughter[0][0]\r\n",
        "    self.amount = parent_daughter[0][1]\r\n",
        "    self.daughters = dict()\r\n",
        "    for elem in parent_daughter[1:]:\r\n",
        "      self.add_daughter(elem)\r\n",
        "  def add_daughter(self, daughter_info): # daughter_info = [\"daughter_name\", branching_ratio, life_time, <amount>]\r\n",
        "    self.daughters[daughter_info[0]] = Daughter(self.name, daughter_info)"
      ],
      "execution_count": null,
      "outputs": []
    },
    {
      "cell_type": "code",
      "metadata": {
        "id": "e0Sg5O6dkk9r"
      },
      "source": [
        "class Daughter:\r\n",
        "  def __init__(self, parent_name, daughter_info):\r\n",
        "    self.parent_name = parent_name\r\n",
        "    self.daughter_name = daughter_info[0]\r\n",
        "    self.branching_ratio = daughter_info[1]\r\n",
        "    self.life_time = daughter_info[2]\r\n",
        "    self.decay_const = np.log(2)/self.life_time\r\n",
        "    if len(daughter_info) > 3:\r\n",
        "      self.amount = daughter_info[3]\r\n",
        "    else:\r\n",
        "      self.amount = 0.0"
      ],
      "execution_count": null,
      "outputs": []
    },
    {
      "cell_type": "code",
      "metadata": {
        "id": "1G_CLLV4tvL4"
      },
      "source": [
        "class Simulate:\r\n",
        "  def __init__(self,simulation_time,unit,lifeTime_unit,all_elements,parents):\r\n",
        "    self.unitOfTime = unit\r\n",
        "    self.lifeTime_unit = lifeTime_unit\r\n",
        "    self.simulation_time = self.simulationTimeOVERunitOfLifeTime(simulation_time)  # Normalized simulation time ( #unit of lifetime)\r\n",
        "    self.all_elements = all_elements\r\n",
        "    self.parents = parents\r\n",
        "    self.Decay_Matrix = np.eye(len(self.all_elements))*0.0\r\n",
        "    self.Branching_Matrix = np.eye(len(self.all_elements))*0.0\r\n",
        "    self.N_Matrix = 0\r\n",
        "    self.eff_Decay = 0\r\n",
        "\r\n",
        "    self.numberOfSteps = 5000\r\n",
        "    self.dt = self.simulation_time/self.numberOfSteps\r\n",
        "\r\n",
        "  def simulationTimeOVERunitOfLifeTime(self, simulation_time): #unit: second, minute, hour, day, week, year  |||| simulationTime/unitOfLifeTime\r\n",
        "    return self.X2second_converter(simulation_time,self.unitOfTime)/self.X2second_converter(1,self.lifeTime_unit)\r\n",
        "    \r\n",
        "  def X2second_converter(self, val, X):\r\n",
        "    if X == \"second\":\r\n",
        "      return  val\r\n",
        "    if X == \"minute\":\r\n",
        "      return val*60\r\n",
        "    if X == \"hour\":\r\n",
        "      return val*60*60\r\n",
        "    if X == \"day\":\r\n",
        "      return val*60*60*24 \r\n",
        "    if X == \"week\":\r\n",
        "      return val*60*60*24*7\r\n",
        "    if X == \"year\":\r\n",
        "      return val*60*60*24*365\r\n",
        "\r\n",
        "  def second2X_converter(self, val, X):\r\n",
        "    return val*val/self.X2second_converter(val,X)\r\n",
        "\r\n",
        "  def calculate_N_Matrix(self):\r\n",
        "    N_amount = np.zeros(len(self.all_elements))\r\n",
        "    for Index, elemName in enumerate(list(self.all_elements)):\r\n",
        "      if elemName in self.parents.keys():\r\n",
        "        N_amount[Index] += self.parents[elemName].amount\r\n",
        "        for daughterIndex, daughterName in enumerate(list(self.all_elements)):\r\n",
        "          if daughterName in self.parents[elemName].daughters.keys():\r\n",
        "            N_amount[daughterIndex] += self.parents[elemName].daughters[daughterName].amount\r\n",
        "    \r\n",
        "    self.N_Matrix = np.diag(N_amount)\r\n",
        "\r\n",
        "  def calculate_DecayAndBranching_Matrix(self):\r\n",
        "    for Index, elemName in enumerate(list(self.all_elements)):\r\n",
        "      print(Index, elemName)\r\n",
        "      if elemName in self.parents.keys():\r\n",
        "        for daughterIndex, daughterName in enumerate(list(self.all_elements)):\r\n",
        "          if daughterName in self.parents[elemName].daughters.keys():\r\n",
        "            #print(elemName, Index, daughterName, daughterIndex)\r\n",
        "            self.Decay_Matrix[Index,daughterIndex] = self.parents[elemName].daughters[daughterName].decay_const\r\n",
        "            self.Branching_Matrix[Index,daughterIndex] = self.parents[elemName].daughters[daughterName].branching_ratio\r\n",
        "\r\n",
        "  def run(self):\r\n",
        "    self.calculate_N_Matrix()\r\n",
        "    self.calculate_DecayAndBranching_Matrix()\r\n",
        "    self.eff_Decay = (self.Branching_Matrix @ self.Decay_Matrix.T).diagonal()\r\n",
        "    self.N_List = [self.N_Matrix.sum(axis=1)]\r\n",
        "    self.t = 0\r\n",
        "    self.t_List = [self.t]\r\n",
        "    for i in range(self.numberOfSteps):\r\n",
        "      X = self.Decay_Matrix.T @ self.N_Matrix\r\n",
        "      dN = (-self.Branching_Matrix@X + self.Branching_Matrix.T@X.T)*self.dt\r\n",
        "      self.N_Matrix = self.N_Matrix + dN\r\n",
        "      self.N_List.append(self.N_List[i] + dN.sum(axis=1))\r\n",
        "      self.t_List.append(self.t_List[i] + self.dt)\r\n",
        "\r\n",
        "    self.t_List = np.array(self.t_List)\r\n",
        "    self.t_List = self.t_List *(self.X2second_converter(1, self.lifeTime_unit)/self.X2second_converter(1, self.unitOfTime))\r\n",
        "    self.N_List = np.array(self.N_List)\r\n",
        "\r\n",
        "    return self.t_List, self.N_List, self.eff_Decay\r\n"
      ],
      "execution_count": 610,
      "outputs": []
    },
    {
      "cell_type": "code",
      "metadata": {
        "id": "ZL04flB2IY3e"
      },
      "source": [
        "Mybox = Radio_Ensemble()"
      ],
      "execution_count": 611,
      "outputs": []
    },
    {
      "cell_type": "code",
      "metadata": {
        "id": "HBwyN9m4IZ2V"
      },
      "source": [
        "Mybox.add_parent([[\"A\",100],[\"B\",1,1]])\r\n",
        "Mybox.add_parent([[\"B\",0],[\"C\",1,12]])"
      ],
      "execution_count": 612,
      "outputs": []
    },
    {
      "cell_type": "code",
      "metadata": {
        "colab": {
          "base_uri": "https://localhost:8080/"
        },
        "id": "HH6Maee8K9N_",
        "outputId": "74cf2418-3430-45f3-91b3-01055cb737f5"
      },
      "source": [
        "Mybox.Run(10,'day')"
      ],
      "execution_count": 613,
      "outputs": [
        {
          "output_type": "stream",
          "text": [
            "0 C\n",
            "1 A\n",
            "2 B\n"
          ],
          "name": "stdout"
        }
      ]
    },
    {
      "cell_type": "code",
      "metadata": {
        "colab": {
          "base_uri": "https://localhost:8080/"
        },
        "id": "fuDPuAgFO_Zp",
        "outputId": "33730d31-92a9-4701-cd1c-6ebf2c244323"
      },
      "source": [
        "list(Mybox.simulation.all_elements)"
      ],
      "execution_count": 614,
      "outputs": [
        {
          "output_type": "execute_result",
          "data": {
            "text/plain": [
              "['C', 'A', 'B']"
            ]
          },
          "metadata": {
            "tags": []
          },
          "execution_count": 614
        }
      ]
    },
    {
      "cell_type": "code",
      "metadata": {
        "colab": {
          "base_uri": "https://localhost:8080/"
        },
        "id": "pGKPc76LQ8SU",
        "outputId": "38d858a0-34bb-44c1-953e-b963031b7180"
      },
      "source": [
        "list(Mybox.all_elements)"
      ],
      "execution_count": 615,
      "outputs": [
        {
          "output_type": "execute_result",
          "data": {
            "text/plain": [
              "['C', 'A', 'B']"
            ]
          },
          "metadata": {
            "tags": []
          },
          "execution_count": 615
        }
      ]
    },
    {
      "cell_type": "code",
      "metadata": {
        "colab": {
          "base_uri": "https://localhost:8080/"
        },
        "id": "EBwQbzKaPySM",
        "outputId": "48cc6aba-e86d-41ef-f5c1-65d26170fa4b"
      },
      "source": [
        "Mybox.parents[\"A\"].daughters"
      ],
      "execution_count": 616,
      "outputs": [
        {
          "output_type": "execute_result",
          "data": {
            "text/plain": [
              "{'B': <__main__.Daughter at 0x7fac619d46a0>}"
            ]
          },
          "metadata": {
            "tags": []
          },
          "execution_count": 616
        }
      ]
    },
    {
      "cell_type": "code",
      "metadata": {
        "colab": {
          "base_uri": "https://localhost:8080/",
          "height": 286
        },
        "id": "RCzvT5qdPhFc",
        "outputId": "b7b7a6de-2f55-4a03-9213-6e13ee3b08df"
      },
      "source": [
        "plt.plot(Mybox.t_List, Mybox.N_List[:,2]*Mybox.eff_Decay[2])\r\n",
        "plt.plot(Mybox.t_List, Mybox.N_List[:,1]*Mybox.eff_Decay[1])\r\n",
        "plt.ylim([0,10])"
      ],
      "execution_count": 617,
      "outputs": [
        {
          "output_type": "execute_result",
          "data": {
            "text/plain": [
              "(0.0, 10.0)"
            ]
          },
          "metadata": {
            "tags": []
          },
          "execution_count": 617
        },
        {
          "output_type": "display_data",
          "data": {
            "image/png": "[encoded data removed]",
            "text/plain": [
              "<Figure size 432x288 with 1 Axes>"
            ]
          },
          "metadata": {
            "tags": [],
            "needs_background": "light"
          }
        }
      ]
    },
    {
      "cell_type": "code",
      "metadata": {
        "id": "kZUV3ruhM3gp"
      },
      "source": [
        ""
      ],
      "execution_count": null,
      "outputs": []
    }
  ]
}