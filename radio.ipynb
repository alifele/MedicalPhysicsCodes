{
  "nbformat": 4,
  "nbformat_minor": 0,
  "metadata": {
    "colab": {
      "name": "radio.ipynb",
      "provenance": [],
      "authorship_tag": "ABX9TyN2h/7VhxfIDhqWn/alyxOP",
      "include_colab_link": true
    },
    "kernelspec": {
      "name": "python3",
      "display_name": "Python 3"
    }
  },
  "cells": [
    {
      "cell_type": "markdown",
      "metadata": {
        "id": "view-in-github",
        "colab_type": "text"
      },
      "source": [
        "<a href=\"https://colab.research.google.com/github/alifele/MedicalPhysicsCodes/blob/main/radio.ipynb\" target=\"_parent\"><img src=\"https://colab.research.google.com/assets/colab-badge.svg\" alt=\"Open In Colab\"/></a>"
      ]
    },
    {
      "cell_type": "code",
      "metadata": {
        "id": "wjav2uf5jRCC"
      },
      "source": [
        "import numpy as np\r\n",
        "import matplotlib.pyplot as plt"
      ],
      "execution_count": 1,
      "outputs": []
    },
    {
      "cell_type": "code",
      "metadata": {
        "id": "P57AmqMHjUdm"
      },
      "source": [
        "N1_0 = 100.0\r\n",
        "N2_0 = 0.0\r\n",
        "lambda1 = 40\r\n",
        "lambda2 = 30\r\n",
        "dt = 0.0001\r\n",
        "N1 = [N1_0]\r\n",
        "N2 = [N2_0]"
      ],
      "execution_count": 2,
      "outputs": []
    },
    {
      "cell_type": "code",
      "metadata": {
        "id": "lwi4rNH9jjem"
      },
      "source": [
        "for i in range(1000):\r\n",
        "  dN1 = -lambda1 * N1[i] * dt\r\n",
        "  N1.append(dN1 + N1[i])\r\n",
        "  dN2 = -lambda2 * N2[i] * dt - dN1\r\n",
        "  N2.append(dN2 + N2[i])\r\n",
        "\r\n",
        "  "
      ],
      "execution_count": 3,
      "outputs": []
    },
    {
      "cell_type": "code",
      "metadata": {
        "colab": {
          "base_uri": "https://localhost:8080/",
          "height": 391
        },
        "id": "R0dSZIx7kEYu",
        "outputId": "6c0a525d-4ea1-43c3-c48b-08738d44339b"
      },
      "source": [
        "plt.figure(figsize=(8,6))\r\n",
        "plt.plot(lambda1 * np.array(N1))\r\n",
        "plt.plot(lambda2 * np.array(N2))"
      ],
      "execution_count": 4,
      "outputs": [
        {
          "output_type": "execute_result",
          "data": {
            "text/plain": [
              "[<matplotlib.lines.Line2D at 0x7fac6c462390>]"
            ]
          },
          "metadata": {
            "tags": []
          },
          "execution_count": 4
        },
        {
          "output_type": "display_data",
          "data": {
            "image/png": "[encoded data removed]",
            "text/plain": [
              "<Figure size 576x432 with 1 Axes>"
            ]
          },
          "metadata": {
            "tags": [],
            "needs_background": "light"
          }
        }
      ]
    },
    {
      "cell_type": "code",
      "metadata": {
        "id": "ZEDcxVUWkgho"
      },
      "source": [
        ""
      ],
      "execution_count": 89,
      "outputs": []
    },
    {
      "cell_type": "code",
      "metadata": {
        "id": "1Zm_vp3rjJBp"
      },
      "source": [
        "Names = [\"A\",\"B\",\"C\"]\r\n",
        "Branch = np.array([[0,1,0],[0,0,1],[0,0,1]])\r\n",
        "Decay = np.array([[0,30,0],[0,0,20],[0,0,0]])\r\n",
        "eff_Decay = (Branch @ Decay.T).diagonal()"
      ],
      "execution_count": 136,
      "outputs": []
    },
    {
      "cell_type": "code",
      "metadata": {
        "id": "KXUFLvlijeBb"
      },
      "source": [
        "N = np.array([[100,0,0],[0,0,0],[0,0,0]])\r\n"
      ],
      "execution_count": 137,
      "outputs": []
    },
    {
      "cell_type": "code",
      "metadata": {
        "id": "mz6cVPdPlRo9"
      },
      "source": [
        "N_List = [N.sum(axis=1)]\r\n",
        "dt = 0.001"
      ],
      "execution_count": 138,
      "outputs": []
    },
    {
      "cell_type": "code",
      "metadata": {
        "id": "2mLQ0tFqjv-r"
      },
      "source": [
        "for i in range(1000):\r\n",
        "  X = Decay.T @ N\r\n",
        "  dN = (-Branch@X + Branch.T@X.T)*dt\r\n",
        "  N = N + dN\r\n",
        "  N_List.append(N_List[i] + dN.sum(axis=1))"
      ],
      "execution_count": 139,
      "outputs": []
    },
    {
      "cell_type": "code",
      "metadata": {
        "id": "s0dbqX5Fj3yp"
      },
      "source": [
        "N_List = np.array(N_List)"
      ],
      "execution_count": 140,
      "outputs": []
    },
    {
      "cell_type": "code",
      "metadata": {
        "colab": {
          "base_uri": "https://localhost:8080/",
          "height": 282
        },
        "id": "jU1DRKZ_j45b",
        "outputId": "d87c4530-4f7e-4ff5-db7a-18f6bbba62a9"
      },
      "source": [
        "for i in range(2):\r\n",
        "  plt.plot(N_List[:,i] * eff_Decay[i], label=Names[i])\r\n",
        "\r\n",
        "plt.legend()"
      ],
      "execution_count": 143,
      "outputs": [
        {
          "output_type": "execute_result",
          "data": {
            "text/plain": [
              "<matplotlib.legend.Legend at 0x7fac6333f160>"
            ]
          },
          "metadata": {
            "tags": []
          },
          "execution_count": 143
        },
        {
          "output_type": "display_data",
          "data": {
            "image/png": "[encoded data removed]",
            "text/plain": [
              "<Figure size 432x288 with 1 Axes>"
            ]
          },
          "metadata": {
            "tags": [],
            "needs_background": "light"
          }
        }
      ]
    },
    {
      "cell_type": "code",
      "metadata": {
        "id": "cuidYREtkAac"
      },
      "source": [
        ""
      ],
      "execution_count": 144,
      "outputs": []
    },
    {
      "cell_type": "code",
      "metadata": {
        "id": "_wfcPA6jkBu-"
      },
      "source": [
        ""
      ],
      "execution_count": 142,
      "outputs": []
    },
    {
      "cell_type": "code",
      "metadata": {
        "id": "nzIFBSZvkfmr"
      },
      "source": [
        "\r\n"
      ],
      "execution_count": 89,
      "outputs": []
    },
    {
      "cell_type": "code",
      "metadata": {
        "id": "RLE8aw5wki8q"
      },
      "source": [
        ""
      ],
      "execution_count": 89,
      "outputs": []
    },
    {
      "cell_type": "code",
      "metadata": {
        "id": "e0Sg5O6dkk9r"
      },
      "source": [
        ""
      ],
      "execution_count": 89,
      "outputs": []
    },
    {
      "cell_type": "code",
      "metadata": {
        "id": "tumlLIUfkl_Q"
      },
      "source": [
        ""
      ],
      "execution_count": null,
      "outputs": []
    }
  ]
}